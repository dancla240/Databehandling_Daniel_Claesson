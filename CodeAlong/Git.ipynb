{
 "cells": [
  {
   "cell_type": "markdown",
   "metadata": {},
   "source": [
    "working tree => staging area => local repository => remote repository\n",
    "\n",
    "Stagea och skriv commit meddelanden per liksom filer som hänger ihop.\n",
    "\n",
    "Tips att få det att funka\n",
    "1. clean code\n",
    "2. bra commits: saker hänger ihop, inte jättestora blaffor, samt bra commit meddelanden\n",
    "\n",
    "\n",
    "[Git commit message guidelines](https://gist.github.com/robertpainsi/b632364184e70900af4ab688decf6f53)\n",
    "\n",
    "Untracked: inte med i versionshanteringen alls\n",
    "\n",
    "installera git graph i visual studio\n",
    "\n",
    "man ser 'parent' i hash tag\n",
    "\n",
    "HEAD = senaste på timelinen\n",
    "Master\n",
    "\n",
    "main och master är samma sak\n",
    "\n",
    "mål: alltid stabil version i master\n",
    "man vill inte jobba i master alls egentligen, utan bara checka in till den från olika branches\n",
    "\n",
    "köra kodtester innan man mergar till main\n",
    "\n",
    "Mergea: stå i en branch, peka på den man vill mergea med.\n",
    "\n",
    "Fetch vs Pull vs Checkout, cirka 36 min in i Lecture 2\n",
    "\n",
    "Fördel med att även versionhantera lokalt: tex att man inte behöve spara gammal \"nice to have kod\" som utkommenterad. Utan kan bara göra en commit på den, och sedan ta bort den ur koden.\n",
    "\n",
    "Publikt repo: man kan bjuda in de som ska kunna pusha till repot, som sk collaborator. I grupparbetet kommer någon behöva skapa ett repo och bjuda in collaborators.\n",
    "\n",
    "[lecture 1](https://ithogskolan.sharepoint.com/:v:/s/AI23/EQj2gw5KpC5IpovLo8tFz8QBvCSATPUTKMFC9u9yYt3Dcw?e=0LmdCk)\n",
    "[lecture 2](https://ithogskolan.sharepoint.com/:v:/s/AI23/EREGl0ckt2FNjIJAOm_m9R4BALrpe7U6jYur2IKANUsNpA?e=DT3ajd)"
   ]
  }
 ],
 "metadata": {
  "language_info": {
   "name": "python"
  }
 },
 "nbformat": 4,
 "nbformat_minor": 2
}
