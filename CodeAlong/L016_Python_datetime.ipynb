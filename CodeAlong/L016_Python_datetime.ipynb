{
 "cells": [
  {
   "cell_type": "markdown",
   "metadata": {},
   "source": [
    "# Working with date and time in Python\n",
    "- date (bara datum)\n",
    "- time (bara tid)\n",
    "- timedelta (mellan två dates eller times)\n",
    "\n",
    "- [Lecture 1.](https://ithogskolan.sharepoint.com/:v:/s/AI23/EQ83Ida8BoJCtwvEHc3L4kABv6zybcFtfg5BEHqTefK8hQ?e=7Tdg9N)\n",
    "\n",
    "- [Pandas timeseries user guide](https://pandas.pydata.org/docs/user_guide/timeseries.html)\n",
    "- [Python datetome doc](https://docs.python.org/3/library/datetime.html)"
   ]
  },
  {
   "cell_type": "markdown",
   "metadata": {},
   "source": [
    "### datetime"
   ]
  },
  {
   "cell_type": "code",
   "execution_count": 43,
   "metadata": {},
   "outputs": [],
   "source": [
    "from datetime import datetime, timedelta, date, time"
   ]
  },
  {
   "cell_type": "code",
   "execution_count": 59,
   "metadata": {},
   "outputs": [
    {
     "name": "stdout",
     "output_type": "stream",
     "text": [
      "type(now) = <class 'datetime.datetime'>\n",
      "Now is 2023-11-10 10:00:49.077502\n",
      "now = datetime.datetime(2023, 11, 10, 10, 0, 49, 77502)\n"
     ]
    }
   ],
   "source": [
    "now = datetime.now() # instans av ett datetime objekt skapas, som heter 'now'\n",
    "print(f'{type(now) = }')\n",
    "print(f'Now is {now}')\n",
    "print(f'{now = }')"
   ]
  },
  {
   "cell_type": "markdown",
   "metadata": {},
   "source": [
    "På datetime objektet finns attribut och metoder, som man kan kalla."
   ]
  },
  {
   "cell_type": "code",
   "execution_count": 45,
   "metadata": {},
   "outputs": [
    {
     "name": "stdout",
     "output_type": "stream",
     "text": [
      "now.year = 2023\n",
      "now.month = 11\n",
      "now.day = 10\n",
      "now.hour = 9\n",
      "now.second = 59\n",
      "now.microsecond = 390134\n",
      "now.isocalendar().week = 45\n",
      "now.isocalendar().weekday = 5\n"
     ]
    }
   ],
   "source": [
    "print(f'{now.year = }')\n",
    "print(f'{now.month = }')\n",
    "print(f'{now.day = }')\n",
    "print(f'{now.hour = }')\n",
    "print(f'{now.second = }')\n",
    "print(f'{now.microsecond = }')\n",
    "print(f'{now.isocalendar().week = }')\n",
    "print(f'{now.isocalendar().weekday = }')"
   ]
  },
  {
   "cell_type": "markdown",
   "metadata": {},
   "source": [
    "Det finns en inbyggd funktion för att få ut en string\n",
    "- strftime - \"string format\":  inparameter = ett datetime objekt, output = string\n",
    "- strptime - \"string parser\": inparameter = en string, output = ett datetime objekt"
   ]
  },
  {
   "cell_type": "code",
   "execution_count": 46,
   "metadata": {},
   "outputs": [
    {
     "name": "stdout",
     "output_type": "stream",
     "text": [
      "Today is a Friday in November.\n"
     ]
    }
   ],
   "source": [
    "now.strftime(\"%Y-%m-%d\")\n",
    "print(f'Today is a {now.strftime(\"%A\")} in {now.strftime(\"%B\")}.')"
   ]
  },
  {
   "cell_type": "code",
   "execution_count": 47,
   "metadata": {},
   "outputs": [
    {
     "data": {
      "text/plain": [
       "'2023-12-24 00:00:00'"
      ]
     },
     "execution_count": 47,
     "metadata": {},
     "output_type": "execute_result"
    }
   ],
   "source": [
    "christmas = datetime(2023, 12, 24) # detta är minimum input\n",
    "christmas\n",
    "str(christmas)"
   ]
  },
  {
   "cell_type": "code",
   "execution_count": 48,
   "metadata": {},
   "outputs": [
    {
     "data": {
      "text/plain": [
       "'2024-01-01 00:00:00'"
      ]
     },
     "execution_count": 48,
     "metadata": {},
     "output_type": "execute_result"
    }
   ],
   "source": [
    "new_year = \"2024-01-01\"\n",
    "next_year = datetime.strptime(new_year, \"%Y-%m-%d\")\n",
    "str(next_year)"
   ]
  },
  {
   "cell_type": "markdown",
   "metadata": {},
   "source": [
    "date objekt spara bara datum delen"
   ]
  },
  {
   "cell_type": "code",
   "execution_count": 49,
   "metadata": {},
   "outputs": [
    {
     "name": "stdout",
     "output_type": "stream",
     "text": [
      "2023-11-10\n"
     ]
    }
   ],
   "source": [
    "now_date = now.date()\n",
    "print(now_date)"
   ]
  },
  {
   "cell_type": "markdown",
   "metadata": {},
   "source": [
    "## Timedelta\n",
    "- Calc the diff between two datetimes gives us a timedelta object.\n",
    "- Den fattar det automatiskt"
   ]
  },
  {
   "cell_type": "code",
   "execution_count": 50,
   "metadata": {},
   "outputs": [
    {
     "name": "stdout",
     "output_type": "stream",
     "text": [
      "51 days, 14:25:00.609866\n"
     ]
    }
   ],
   "source": [
    "# \n",
    "time_until_next_year = next_year - now\n",
    "print(time_until_next_year)"
   ]
  },
  {
   "cell_type": "code",
   "execution_count": 51,
   "metadata": {},
   "outputs": [
    {
     "name": "stdout",
     "output_type": "stream",
     "text": [
      "str(time_until_next_year) = '51 days, 14:25:00.609866'\n",
      "repr(time_until_next_year) = 'datetime.timedelta(days=51, seconds=51900, microseconds=609866)'\n"
     ]
    }
   ],
   "source": [
    "print(f'{str(time_until_next_year) = }')\n",
    "print(f'{repr(time_until_next_year) = }')"
   ]
  },
  {
   "cell_type": "code",
   "execution_count": null,
   "metadata": {},
   "outputs": [],
   "source": [
    "print()"
   ]
  },
  {
   "cell_type": "markdown",
   "metadata": {},
   "source": [
    "Timedelta har en egen konstruktor"
   ]
  },
  {
   "cell_type": "code",
   "execution_count": 55,
   "metadata": {},
   "outputs": [
    {
     "name": "stdout",
     "output_type": "stream",
     "text": [
      "2023-11-10 09:44:37.290091\n",
      "2023-11-15 09:44:37.290091\n"
     ]
    }
   ],
   "source": [
    "timedelta(5) # ger ett timedelta objekt som motsvarar 5 dagar\n",
    "print(datetime.now())\n",
    "print(datetime.now() + timedelta(5))"
   ]
  },
  {
   "cell_type": "markdown",
   "metadata": {},
   "source": [
    "Om man vill kunna addera veckor, månader eller år och liknande."
   ]
  },
  {
   "cell_type": "code",
   "execution_count": 57,
   "metadata": {},
   "outputs": [],
   "source": [
    "from dateutil.relativedelta import relativedelta"
   ]
  },
  {
   "cell_type": "code",
   "execution_count": 58,
   "metadata": {},
   "outputs": [
    {
     "name": "stdout",
     "output_type": "stream",
     "text": [
      "2024-04-10 09:48:35.833150\n"
     ]
    }
   ],
   "source": [
    "print(datetime.now() + relativedelta(months=5))"
   ]
  }
 ],
 "metadata": {
  "kernelspec": {
   "display_name": "databeh",
   "language": "python",
   "name": "python3"
  },
  "language_info": {
   "codemirror_mode": {
    "name": "ipython",
    "version": 3
   },
   "file_extension": ".py",
   "mimetype": "text/x-python",
   "name": "python",
   "nbconvert_exporter": "python",
   "pygments_lexer": "ipython3",
   "version": "3.11.5"
  }
 },
 "nbformat": 4,
 "nbformat_minor": 2
}
