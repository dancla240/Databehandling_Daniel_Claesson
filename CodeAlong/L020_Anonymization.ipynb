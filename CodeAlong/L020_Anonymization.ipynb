{
 "cells": [
  {
   "cell_type": "markdown",
   "metadata": {},
   "source": [
    "- **Pseudoanonymization:** Replacing identifying information in such a way that the process can be reversed (with extra information, tex krypteringsnycklar)\n",
    "- **Anonymization:** Replacing identifying information with the *intent* to be fully non-reversible.\n",
    "\n",
    "### Techniques for anonymization\n",
    "- **Hashing / Crypto** Fredrik Johansson => djkaq4532fdn243nlsd (hashfunktion)\n",
    "    - Hash: Går inte reversa\n",
    "    - Crypto: går att reversa med nyckel\n",
    "- **Data masking** tex en kolumn med email: fredrik@everloop.com => f******@*****.com\n",
    "- **Generalization** Age: 34 => Age: 30-40. Inforation på individnivå.\n",
    "- **Aggregation** Gruppera och aggregera. Liknande den datan från FHM. Innehåller ingen individuell information.\n",
    "- **Removing data** Remove column / columns from the dataset. personnummer, namn, visa kort nummer etc.\n",
    "\n",
    "- Föreläsningar:\n",
    "[Förel. 1](https://ithogskolan.sharepoint.com/:v:/s/AI23/EXxDtJ9mA9FDiBfS3N0US1wBZMkjjO3gVPcykZjONWk41g?e=074dGu)\n",
    "[Förel. 2](https://ithogskolan.sharepoint.com/:v:/s/AI23/EVmrkMsQJ-BMqVZ2zuXeSd4BFT0dAFrw35D1XqvCfb1KYw?e=dA8y51)\n",
    "[Förel 3.](https://ithogskolan.sharepoint.com/:v:/s/AI23/Efho3Qxpr1RBvZ7AW2OeQRwBqFC8A9XOc-24MJR6NojLHw?e=bKygpA)\n",
    "[Förel. 4](https://ithogskolan.sharepoint.com/:v:/s/AI23/EaX8PWJb_HtDvxq_5HiKzl4BneypA3ofNvgICN5_uvMfWg?e=Ehq6gx)\n",
    "[Förel. 5]()"
   ]
  },
  {
   "cell_type": "markdown",
   "metadata": {},
   "source": [
    "#### Anonymization with hash\n",
    "- There are many types of hash functions (algorithms), example MD%, SHA-128, SHA256.\n",
    "- has functions are used to map data of arbitrary size to fixed size values.\n",
    "- Even smallest change in in the input yields a totally different output string.\n",
    "- It's not possible to reverse the process, i.e. given the hash we can not get the original string back.\n",
    "\n",
    "- bibliotek som man använder: hashlib\n",
    "- Användningsområde:\n",
    "    - Checkumma: Tex, kan användas för att kolla att man fått ner all data korrekt\n",
    "    - För sökning i stora mängder information, jämföra hash med varandra\n",
    "    - lagra lösenord i en databas: i databasen sparas bara en hash, inte själva lösenordet\n",
    "    - salt: en random string som adderas. adderar säkerhet, ifall flera användare har samma lösenord\n",
    "- HAshfunktion är deterministisk (samma data ger alltid samma hash summa.)"
   ]
  },
  {
   "cell_type": "code",
   "execution_count": 13,
   "metadata": {},
   "outputs": [
    {
     "data": {
      "text/plain": [
       "'88d4266fd4e6338d13b845fcf289579d209c897823b9217da3e161936f031589'"
      ]
     },
     "execution_count": 13,
     "metadata": {},
     "output_type": "execute_result"
    }
   ],
   "source": [
    "import hashlib as hl\n",
    "\n",
    "text1 = \"top secret information\".encode() # byte array\n",
    "text2 = \"abcd\".encode() # byte array\n",
    "text3 = \"abcd\".encode('utf-8') # byte array\n",
    "\n",
    "text = 'abcd'.encode('utf-8')\n",
    "\n",
    "hl.sha256(text).hexdigest()\n",
    "\n",
    "\n",
    "# text1.hex()\n",
    "# text2.hex() # samma som ascii table\n",
    "# text3.hex()"
   ]
  },
  {
   "cell_type": "code",
   "execution_count": 15,
   "metadata": {},
   "outputs": [
    {
     "name": "stdout",
     "output_type": "stream",
     "text": [
      "hl.sha256('hello world'.encode()).hexdigest() = 'b94d27b9934d3e08a52e52d7da7dabfac484efe37a5380ee9088f7ace2efcde9'\n",
      "hl.sha256('Hello world'.encode()).hexdigest() = '64ec88ca00b268e5ba1a35678a1b5316d212f4f366b2477232534a8aeca37f3c'\n"
     ]
    }
   ],
   "source": [
    "print(f\"{hl.sha256('hello world'.encode()).hexdigest() = }\")\n",
    "print(f\"{hl.sha256('Hello world'.encode()).hexdigest() = }\")"
   ]
  },
  {
   "cell_type": "markdown",
   "metadata": {},
   "source": [
    "Kolla föreläsningen, del 2\n",
    "- hur man anonymiserar namnet i en dataframe\n",
    "- employees.query(\"firstname == @name_hash), tex\n",
    "- Brute force: man kollar alla möjliga kombinationer\n",
    "- Eller så gör man en dictionary där man sparar alla kombinationer och låser upp alla lösenord\n",
    "- salt: adderar en random string som concateneras. salt sparas uten kryptering i databasen, tillsammans med hash'en.\n"
   ]
  },
  {
   "cell_type": "markdown",
   "metadata": {},
   "source": [
    "Föreläsningen del 3\n",
    "- html\n",
    "- css style sheets\n",
    "- javascript (för funktionalitet för hemsidor)\n",
    "det finns massa bibliotek / plattformar för frontend osv\n",
    "\n"
   ]
  },
  {
   "cell_type": "markdown",
   "metadata": {},
   "source": [
    "#### Bootstrap\n",
    "- [bootstrap](bootstrap.com)\n",
    "- tillhandahåler style sheets, så formatering blir enklare\n",
    "- komponenter för knappar, drop downs osv\n",
    "- [dah](dash.plotly.com) det finns en intro video\n",
    "- se asnitt \"styling your app\", \"dash core components\"\n",
    "- Dash bootstrap components, länk i skolan, specialbyggd för att funka med Dash\n",
    "- Bootswatch.com för free themes\n",
    "- för att installera: pipenv install dash-bootstrap-components\n",
    "- bootstrap origina: getbootstrap.com\n",
    "- vi kollar på_ dash-bootstrap-components.... osv\n",
    "- py-mon är ett paket för att \n",
    "- bootstrap är \"respnsive\", betyder att den automatiskt anpassar sig till bredden på devicen.\n",
    "    - breakpoints, \"bredden\"\n",
    "    - containers, man lägger sitt jobb i en container\n",
    "    - grid system: tex att saker hamnar bredvid varandra på en bred skärm, men under varandra på en smal\n",
    "    \n"
   ]
  },
  {
   "cell_type": "code",
   "execution_count": 3,
   "metadata": {},
   "outputs": [
    {
     "name": "stdout",
     "output_type": "stream",
     "text": [
      "Dash app running on http://127.0.0.1:8050/\n"
     ]
    }
   ],
   "source": [
    "from dash import Dash, html, dcc, callback, Output, Input\n",
    "import dash_bootstrap_components as dbc\n",
    "\n",
    "app = Dash(__name__)\n",
    "\n",
    "app.layout = html.Div(\"Hello World\")\n",
    "\n",
    "app.run(debug=True, jupyter_mode=\"external\") #external: öppnar ny webbläsare"
   ]
  },
  {
   "cell_type": "markdown",
   "metadata": {},
   "source": [
    "Adderar theme...\n",
    "Ändrar från html till dbc.container\n",
    "I documentation finns vad olika färger betyder\n",
    "det finns cheat sheets för bootstrap\n",
    "\n"
   ]
  },
  {
   "cell_type": "markdown",
   "metadata": {},
   "source": [
    "Förel 4\n",
    "- basics om grid systemet\n",
    "- vi ska välja vad vi ska använda för saker\n",
    "- "
   ]
  },
  {
   "cell_type": "code",
   "execution_count": 33,
   "metadata": {},
   "outputs": [
    {
     "name": "stdout",
     "output_type": "stream",
     "text": [
      "Dash app running on http://127.0.0.1:8050/\n"
     ]
    }
   ],
   "source": [
    "from dash import Dash, html, dcc, callback, Output, Input\n",
    "import dash_bootstrap_components as dbc\n",
    "\n",
    "app = Dash(\n",
    "    __name__, external_stylesheets=[dbc.themes.DARKLY],\n",
    "    meta_tags=[{\"name\": \"viewport\", \"content\": \"width=device-width, initial-scale=1\"}]\n",
    ")\n",
    "\n",
    "app.layout = dbc.Container([\n",
    "    # \"Hello Bootstrap\",\n",
    "    # dbc.Button(\"Click Here!\", color='success', className=\"ms-4 text-uppercase\")\n",
    "    dbc.Row([\n",
    "        dbc.Col(\n",
    "            children = dbc.Input(type=\"text\", placeholder=\"First name:\"),\n",
    "            className = \"mt-2\",\n",
    "            width = {\"size\" :3, \"offset\" : 0}\n",
    "        ),\n",
    "\n",
    "        dbc.Col(\n",
    "            children = [dbc.Input(type=\"text\", placeholder=\"Last name:\"),\n",
    "                        dbc.Input(type=\"text\", placeholder=\"Last name:\"),\n",
    "                        dbc.Input(type=\"text\", placeholder=\"Last name:\")],\n",
    "            className = \"mt-2\",\n",
    "            width = {\"size\" :4, \"offset\" : 0}\n",
    "        ),\n",
    "        dbc.Col(\n",
    "            children = dbc.Input(type=\"text\", placeholder=\"Email:\"),\n",
    "            className = \"mt-2\",\n",
    "            width = {\"size\" :3, \"offset\" : 0}\n",
    "        )\n",
    "    ], justify=\"evenly\"), #around, center, start, end, between, evenly, osv, kolla doc, beskriver hur grejerna hamnar i grid systemet.\n",
    "    dbc.Row([    \n",
    "        dbc.Col(\n",
    "            children = dbc.Input(type=\"text\", placeholder=\"First name:\"),\n",
    "            className = \"mt-2\",\n",
    "            width = {\"size\" :3, \"offset\" : 0}\n",
    "        ),\n",
    "\n",
    "        dbc.Col(\n",
    "            children = [dbc.Input(type=\"text\", placeholder=\"Last name:\"),\n",
    "                        dbc.Input(type=\"text\", placeholder=\"Last name:\"),\n",
    "                        dbc.Input(type=\"text\", placeholder=\"Last name:\")],\n",
    "            className = \"mt-2\",\n",
    "            width = {\"size\" :4, \"offset\" : 0}\n",
    "        ),\n",
    "        dbc.Col(\n",
    "            children = dbc.Input(type=\"text\", placeholder=\"Email:\"),\n",
    "            className = \"mt-2\",\n",
    "            width = {\"size\" :3, \"offset\" : 0}\n",
    "        )\n",
    "    ], justify=\"evenly\") #around, center, start, end, between, evenly, osv, kolla doc, beskriver hur grejerna hamnar i grid systemet.\n",
    "\n",
    "], fluid=True)\n",
    "\n",
    "\n",
    "app.run(debug=True, jupyter_mode=\"external\") #external: öppnar ny webbläsare"
   ]
  },
  {
   "cell_type": "code",
   "execution_count": 37,
   "metadata": {},
   "outputs": [
    {
     "name": "stdout",
     "output_type": "stream",
     "text": [
      "Dash app running on http://127.0.0.1:8050/\n"
     ]
    }
   ],
   "source": [
    "from dash import Dash, html, dcc, callback, Output, Input\n",
    "import dash_bootstrap_components as dbc\n",
    "\n",
    "app = Dash(\n",
    "    __name__, external_stylesheets=[dbc.themes.DARKLY],\n",
    "    meta_tags=[{\"name\": \"viewport\", \"content\": \"width=device-width, initial-scale=1\"}]\n",
    ")\n",
    "\n",
    "app.layout = dbc.Container([\n",
    "    # \"Hello Bootstrap\",\n",
    "    # dbc.Button(\"Click Here!\", color='success', className=\"ms-4 text-uppercase\")\n",
    "    dbc.Row([\n",
    "        dbc.Col(\n",
    "            children = dbc.Input(type=\"text\", placeholder=\"First name:\"),\n",
    "            className = \"mt-2\",\n",
    "            xs=12, sm=6, md=6, lg=3\n",
    "        ),\n",
    "\n",
    "        dbc.Col(\n",
    "            children = [dbc.Input(type=\"text\", placeholder=\"Last name:\")],\n",
    "            className = \"mt-2\",\n",
    "            xs=12, sm=6, md=6, lg=3\n",
    "        ),\n",
    "        dbc.Col(\n",
    "            children = dbc.Input(type=\"text\", placeholder=\"Email:\"),\n",
    "            className = \"mt-2\",\n",
    "            xs=12, sm=6, md=6, lg=3\n",
    "        ),    \n",
    "        dbc.Col(\n",
    "            children = dbc.Input(type=\"text\", placeholder=\"Email:\"),\n",
    "            className = \"mt-2\",\n",
    "            xs=12, sm=6, md=6, lg=3\n",
    "        )\n",
    "    ], justify=\"evenly\"), #around, center, start, end, between, evenly, osv, kolla doc, beskriver hur grejerna hamnar i grid systemet.\n",
    "    # dbc.Row([    \n",
    "    #     dbc.Col(\n",
    "    #         children = dbc.Input(type=\"text\", placeholder=\"First name:\"),\n",
    "    #         className = \"mt-2\",\n",
    "    #         width = {\"size\" :3, \"offset\" : 0}\n",
    "    #     ),\n",
    "\n",
    "    #     dbc.Col(\n",
    "    #         children = [dbc.Input(type=\"text\", placeholder=\"Last name:\"),\n",
    "    #                     dbc.Input(type=\"text\", placeholder=\"Last name:\"),\n",
    "    #                     dbc.Input(type=\"text\", placeholder=\"Last name:\")],\n",
    "    #         className = \"mt-2\",\n",
    "    #         width = {\"size\" :4, \"offset\" : 0}\n",
    "    #     ),\n",
    "    #     dbc.Col(\n",
    "    #         children = dbc.Input(type=\"text\", placeholder=\"Email:\"),\n",
    "    #         className = \"mt-2\",\n",
    "    #         width = {\"size\" :3, \"offset\" : 0}\n",
    "    #     )\n",
    "    # ], justify=\"evenly\") #around, center, start, end, between, evenly, osv, kolla doc, beskriver hur grejerna hamnar i grid systemet.\n",
    "\n",
    "], fluid=True)\n",
    "\n",
    "\n",
    "app.run(debug=True, jupyter_mode=\"external\") #external: öppnar ny webbläsare"
   ]
  }
 ],
 "metadata": {
  "kernelspec": {
   "display_name": "Databehandling_Daniel_Claesson-irqqXDjs",
   "language": "python",
   "name": "python3"
  },
  "language_info": {
   "codemirror_mode": {
    "name": "ipython",
    "version": 3
   },
   "file_extension": ".py",
   "mimetype": "text/x-python",
   "name": "python",
   "nbconvert_exporter": "python",
   "pygments_lexer": "ipython3",
   "version": "3.11.5"
  }
 },
 "nbformat": 4,
 "nbformat_minor": 2
}
