{
 "cells": [
  {
   "cell_type": "markdown",
   "metadata": {},
   "source": [
    "## Exercises: Group and aggregate"
   ]
  },
  {
   "cell_type": "code",
   "execution_count": 39,
   "metadata": {},
   "outputs": [],
   "source": [
    "import pandas as pd\n",
    "import seaborn as sns\n",
    "import warnings\n",
    "warnings.filterwarnings(category=FutureWarning, action=\"ignore\")\n",
    "titanic = sns.load_dataset(\"titanic\")"
   ]
  },
  {
   "cell_type": "markdown",
   "metadata": {},
   "source": [
    "**Use group by and aggregation on the \"titanic\" dataset to answer the following questions:**"
   ]
  },
  {
   "cell_type": "markdown",
   "metadata": {},
   "source": [
    "**Q1:** How many males and how many females were onboard titanic?\n",
    "\n",
    "<details>\n",
    "<summary>Answer</summary>\n",
    "<br>\n",
    "&nbsp;&nbsp;&nbsp;<b>males:</b> 577<br>\n",
    "&nbsp;&nbsp;&nbsp;<b>females:</b> 314<br>\n",
    "</details>"
   ]
  },
  {
   "cell_type": "code",
   "execution_count": 2,
   "metadata": {},
   "outputs": [
    {
     "data": {
      "text/html": [
       "<div>\n",
       "<style scoped>\n",
       "    .dataframe tbody tr th:only-of-type {\n",
       "        vertical-align: middle;\n",
       "    }\n",
       "\n",
       "    .dataframe tbody tr th {\n",
       "        vertical-align: top;\n",
       "    }\n",
       "\n",
       "    .dataframe thead th {\n",
       "        text-align: right;\n",
       "    }\n",
       "</style>\n",
       "<table border=\"1\" class=\"dataframe\">\n",
       "  <thead>\n",
       "    <tr style=\"text-align: right;\">\n",
       "      <th></th>\n",
       "      <th>survived</th>\n",
       "      <th>pclass</th>\n",
       "      <th>sex</th>\n",
       "      <th>age</th>\n",
       "      <th>sibsp</th>\n",
       "      <th>parch</th>\n",
       "      <th>fare</th>\n",
       "      <th>embarked</th>\n",
       "      <th>class</th>\n",
       "      <th>who</th>\n",
       "      <th>adult_male</th>\n",
       "      <th>deck</th>\n",
       "      <th>embark_town</th>\n",
       "      <th>alive</th>\n",
       "      <th>alone</th>\n",
       "    </tr>\n",
       "  </thead>\n",
       "  <tbody>\n",
       "    <tr>\n",
       "      <th>0</th>\n",
       "      <td>0</td>\n",
       "      <td>3</td>\n",
       "      <td>male</td>\n",
       "      <td>22.0</td>\n",
       "      <td>1</td>\n",
       "      <td>0</td>\n",
       "      <td>7.2500</td>\n",
       "      <td>S</td>\n",
       "      <td>Third</td>\n",
       "      <td>man</td>\n",
       "      <td>True</td>\n",
       "      <td>NaN</td>\n",
       "      <td>Southampton</td>\n",
       "      <td>no</td>\n",
       "      <td>False</td>\n",
       "    </tr>\n",
       "    <tr>\n",
       "      <th>1</th>\n",
       "      <td>1</td>\n",
       "      <td>1</td>\n",
       "      <td>female</td>\n",
       "      <td>38.0</td>\n",
       "      <td>1</td>\n",
       "      <td>0</td>\n",
       "      <td>71.2833</td>\n",
       "      <td>C</td>\n",
       "      <td>First</td>\n",
       "      <td>woman</td>\n",
       "      <td>False</td>\n",
       "      <td>C</td>\n",
       "      <td>Cherbourg</td>\n",
       "      <td>yes</td>\n",
       "      <td>False</td>\n",
       "    </tr>\n",
       "    <tr>\n",
       "      <th>2</th>\n",
       "      <td>1</td>\n",
       "      <td>3</td>\n",
       "      <td>female</td>\n",
       "      <td>26.0</td>\n",
       "      <td>0</td>\n",
       "      <td>0</td>\n",
       "      <td>7.9250</td>\n",
       "      <td>S</td>\n",
       "      <td>Third</td>\n",
       "      <td>woman</td>\n",
       "      <td>False</td>\n",
       "      <td>NaN</td>\n",
       "      <td>Southampton</td>\n",
       "      <td>yes</td>\n",
       "      <td>True</td>\n",
       "    </tr>\n",
       "    <tr>\n",
       "      <th>3</th>\n",
       "      <td>1</td>\n",
       "      <td>1</td>\n",
       "      <td>female</td>\n",
       "      <td>35.0</td>\n",
       "      <td>1</td>\n",
       "      <td>0</td>\n",
       "      <td>53.1000</td>\n",
       "      <td>S</td>\n",
       "      <td>First</td>\n",
       "      <td>woman</td>\n",
       "      <td>False</td>\n",
       "      <td>C</td>\n",
       "      <td>Southampton</td>\n",
       "      <td>yes</td>\n",
       "      <td>False</td>\n",
       "    </tr>\n",
       "    <tr>\n",
       "      <th>4</th>\n",
       "      <td>0</td>\n",
       "      <td>3</td>\n",
       "      <td>male</td>\n",
       "      <td>35.0</td>\n",
       "      <td>0</td>\n",
       "      <td>0</td>\n",
       "      <td>8.0500</td>\n",
       "      <td>S</td>\n",
       "      <td>Third</td>\n",
       "      <td>man</td>\n",
       "      <td>True</td>\n",
       "      <td>NaN</td>\n",
       "      <td>Southampton</td>\n",
       "      <td>no</td>\n",
       "      <td>True</td>\n",
       "    </tr>\n",
       "  </tbody>\n",
       "</table>\n",
       "</div>"
      ],
      "text/plain": [
       "   survived  pclass     sex   age  sibsp  parch     fare embarked  class  \\\n",
       "0         0       3    male  22.0      1      0   7.2500        S  Third   \n",
       "1         1       1  female  38.0      1      0  71.2833        C  First   \n",
       "2         1       3  female  26.0      0      0   7.9250        S  Third   \n",
       "3         1       1  female  35.0      1      0  53.1000        S  First   \n",
       "4         0       3    male  35.0      0      0   8.0500        S  Third   \n",
       "\n",
       "     who  adult_male deck  embark_town alive  alone  \n",
       "0    man        True  NaN  Southampton    no  False  \n",
       "1  woman       False    C    Cherbourg   yes  False  \n",
       "2  woman       False  NaN  Southampton   yes   True  \n",
       "3  woman       False    C  Southampton   yes  False  \n",
       "4    man        True  NaN  Southampton    no   True  "
      ]
     },
     "execution_count": 2,
     "metadata": {},
     "output_type": "execute_result"
    }
   ],
   "source": [
    "titanic.head()"
   ]
  },
  {
   "cell_type": "code",
   "execution_count": 52,
   "metadata": {},
   "outputs": [
    {
     "name": "stdout",
     "output_type": "stream",
     "text": [
      "<class 'pandas.core.frame.DataFrame'>\n",
      "RangeIndex: 891 entries, 0 to 890\n",
      "Data columns (total 15 columns):\n",
      " #   Column       Non-Null Count  Dtype   \n",
      "---  ------       --------------  -----   \n",
      " 0   survived     891 non-null    int64   \n",
      " 1   pclass       891 non-null    int64   \n",
      " 2   sex          891 non-null    object  \n",
      " 3   age          714 non-null    float64 \n",
      " 4   sibsp        891 non-null    int64   \n",
      " 5   parch        891 non-null    int64   \n",
      " 6   fare         891 non-null    float64 \n",
      " 7   embarked     889 non-null    object  \n",
      " 8   class        891 non-null    category\n",
      " 9   who          891 non-null    object  \n",
      " 10  adult_male   891 non-null    bool    \n",
      " 11  deck         203 non-null    category\n",
      " 12  embark_town  889 non-null    object  \n",
      " 13  alive        891 non-null    object  \n",
      " 14  alone        891 non-null    bool    \n",
      "dtypes: bool(2), category(2), float64(2), int64(4), object(5)\n",
      "memory usage: 80.7+ KB\n"
     ]
    }
   ],
   "source": [
    "titanic.info()"
   ]
  },
  {
   "cell_type": "code",
   "execution_count": 32,
   "metadata": {},
   "outputs": [
    {
     "name": "stdout",
     "output_type": "stream",
     "text": [
      "len(dfgb_sex) = 2\n",
      "len(dfgb_sex.get_group(\"male\")) = 577\n",
      "len(dfgb_sex.get_group(\"female\")) = 314\n"
     ]
    }
   ],
   "source": [
    "dfgb_sex = titanic.groupby('sex')\n",
    "print(f'{len(dfgb_sex) = }') # hur många df som finns i den splittade df'en\n",
    "print(f'{len(dfgb_sex.get_group(\"male\")) = }') # längden på 'male'\n",
    "print(f'{len(dfgb_sex.get_group(\"female\")) = }') # längden på 'male'"
   ]
  },
  {
   "cell_type": "code",
   "execution_count": 34,
   "metadata": {},
   "outputs": [
    {
     "data": {
      "text/plain": [
       "sex\n",
       "female    314\n",
       "male      577\n",
       "Name: sex, dtype: int64"
      ]
     },
     "execution_count": 34,
     "metadata": {},
     "output_type": "execute_result"
    }
   ],
   "source": [
    "sgb_sex = dfgb_sex['sex']\n",
    "sgb_sex.count()"
   ]
  },
  {
   "cell_type": "markdown",
   "metadata": {},
   "source": [
    "**Q2:** How many males and how many females survived?\n",
    "\n",
    "<details>\n",
    "<summary>Answer</summary>\n",
    "<br>\n",
    "&nbsp;&nbsp;&nbsp;<b>males:</b> 109<br>\n",
    "&nbsp;&nbsp;&nbsp;<b>females:</b> 233<br>\n",
    "</details>"
   ]
  },
  {
   "cell_type": "code",
   "execution_count": 36,
   "metadata": {},
   "outputs": [
    {
     "data": {
      "text/plain": [
       "sex\n",
       "female    233\n",
       "male      109\n",
       "Name: survived, dtype: int64"
      ]
     },
     "execution_count": 36,
     "metadata": {},
     "output_type": "execute_result"
    }
   ],
   "source": [
    "sgb_survived = dfgb_sex['survived']\n",
    "sgb_survived.sum()"
   ]
  },
  {
   "cell_type": "markdown",
   "metadata": {},
   "source": [
    "**Q3:** How many people traveled in each class, and what was the total amount spent on tickets in each class?\n",
    "\n",
    "<details>\n",
    "<summary>Answer</summary>\n",
    "<br>\n",
    "&nbsp;&nbsp;&nbsp;<b>First:</b> 216 people (£18177)<br>\n",
    "&nbsp;&nbsp;&nbsp;<b>Second:</b> 184 people (£3802)<br>\n",
    "&nbsp;&nbsp;&nbsp;<b>Third:</b> 491 people (£6715)<br>\n",
    "</details>"
   ]
  },
  {
   "cell_type": "code",
   "execution_count": 74,
   "metadata": {},
   "outputs": [
    {
     "name": "stdout",
     "output_type": "stream",
     "text": [
      "Nbr of passengers in each class: class\n",
      "First     216\n",
      "Second    184\n",
      "Third     491\n",
      "Name: class, dtype: int64\n",
      "====================================================\n",
      "Total ticket price for each class: class\n",
      "First     18177.0\n",
      "Second     3802.0\n",
      "Third      6715.0\n",
      "Name: fare, dtype: float64\n",
      "====================================================\n"
     ]
    },
    {
     "data": {
      "text/plain": [
       "pandas.core.series.Series"
      ]
     },
     "execution_count": 74,
     "metadata": {},
     "output_type": "execute_result"
    }
   ],
   "source": [
    "dfgb_class = titanic.groupby('class')\n",
    "#print(dfgb_class.groups.keys())\n",
    "print(f'Nbr of passengers in each class: {dfgb_class[\"class\"].count()}')\n",
    "print(\"====================================================\")\n",
    "print(f'Total ticket price for each class: {round(dfgb_class[\"fare\"].sum(),0)}')\n",
    "print(\"====================================================\")\n",
    "sgb_oject = round(dfgb_class[\"fare\"].sum(),0) # returnerar ett Pandas Series object\n",
    "type(sgb_oject)\n"
   ]
  },
  {
   "cell_type": "markdown",
   "metadata": {},
   "source": [
    "**Q4:** Where did most people embark, and what town had the highest ratio of survivors?\n",
    "\n",
    "<details>\n",
    "<summary>Answer</summary>\n",
    "<br>\n",
    "&nbsp;&nbsp;&nbsp;Most people (644) embarked in Southampton.<br>\n",
    "&nbsp;&nbsp;&nbsp;However,Cherbourg had the highest ratio of survivors (55.4%).\n",
    "</details>"
   ]
  },
  {
   "cell_type": "code",
   "execution_count": 80,
   "metadata": {},
   "outputs": [
    {
     "data": {
      "text/plain": [
       "embark_town\n",
       "Cherbourg      168\n",
       "Queenstown      77\n",
       "Southampton    644\n",
       "Name: embarked, dtype: int64"
      ]
     },
     "execution_count": 80,
     "metadata": {},
     "output_type": "execute_result"
    }
   ],
   "source": [
    "pdgb_embarktown = titanic.groupby('embark_town')\n",
    "pdgb_embarktown['embarked'].count()\n"
   ]
  },
  {
   "cell_type": "code",
   "execution_count": 82,
   "metadata": {},
   "outputs": [
    {
     "data": {
      "text/plain": [
       "embark_town\n",
       "Cherbourg       93\n",
       "Queenstown      30\n",
       "Southampton    217\n",
       "Name: survived, dtype: int64"
      ]
     },
     "execution_count": 82,
     "metadata": {},
     "output_type": "execute_result"
    }
   ],
   "source": [
    "pdgb_embarktown['survived'].sum()"
   ]
  },
  {
   "cell_type": "code",
   "execution_count": 93,
   "metadata": {},
   "outputs": [
    {
     "data": {
      "text/html": [
       "<div>\n",
       "<style scoped>\n",
       "    .dataframe tbody tr th:only-of-type {\n",
       "        vertical-align: middle;\n",
       "    }\n",
       "\n",
       "    .dataframe tbody tr th {\n",
       "        vertical-align: top;\n",
       "    }\n",
       "\n",
       "    .dataframe thead tr th {\n",
       "        text-align: left;\n",
       "    }\n",
       "\n",
       "    .dataframe thead tr:last-of-type th {\n",
       "        text-align: right;\n",
       "    }\n",
       "</style>\n",
       "<table border=\"1\" class=\"dataframe\">\n",
       "  <thead>\n",
       "    <tr>\n",
       "      <th></th>\n",
       "      <th colspan=\"3\" halign=\"left\">survived</th>\n",
       "    </tr>\n",
       "    <tr>\n",
       "      <th></th>\n",
       "      <th>count</th>\n",
       "      <th>sum</th>\n",
       "      <th>ratio</th>\n",
       "    </tr>\n",
       "    <tr>\n",
       "      <th>embark_town</th>\n",
       "      <th></th>\n",
       "      <th></th>\n",
       "      <th></th>\n",
       "    </tr>\n",
       "  </thead>\n",
       "  <tbody>\n",
       "    <tr>\n",
       "      <th>Cherbourg</th>\n",
       "      <td>168</td>\n",
       "      <td>93</td>\n",
       "      <td>0.553571</td>\n",
       "    </tr>\n",
       "    <tr>\n",
       "      <th>Queenstown</th>\n",
       "      <td>77</td>\n",
       "      <td>30</td>\n",
       "      <td>0.389610</td>\n",
       "    </tr>\n",
       "    <tr>\n",
       "      <th>Southampton</th>\n",
       "      <td>644</td>\n",
       "      <td>217</td>\n",
       "      <td>0.336957</td>\n",
       "    </tr>\n",
       "  </tbody>\n",
       "</table>\n",
       "</div>"
      ],
      "text/plain": [
       "            survived               \n",
       "               count  sum     ratio\n",
       "embark_town                        \n",
       "Cherbourg        168   93  0.553571\n",
       "Queenstown        77   30  0.389610\n",
       "Southampton      644  217  0.336957"
      ]
     },
     "execution_count": 93,
     "metadata": {},
     "output_type": "execute_result"
    }
   ],
   "source": [
    "# Multiple aggregation på 'Survived':\n",
    "my_df = pdgb_embarktown[['survived']].agg(['count','sum']).head()\n",
    "my_df[('survived','ratio')] = my_df[('survived','sum')] / my_df[('survived','count')]\n",
    "my_df"
   ]
  },
  {
   "cell_type": "markdown",
   "metadata": {},
   "source": [
    "**Q5:** How many family members did survivors travel with on average? And for non-survivors?\n",
    "\n",
    "<details>\n",
    "<summary>Answer</summary>\n",
    "<br>\n",
    "&nbsp;&nbsp;&nbsp;<b>Survivors:</b> 0.94 family members<br>\n",
    "&nbsp;&nbsp;&nbsp;<b>Non-Survivors:</b> 0.88 family members<br><br>\n",
    "&nbsp;&nbsp;&nbsp;<i>* Family members counted as: sibsp + parch</i>\n",
    "</details>"
   ]
  },
  {
   "cell_type": "code",
   "execution_count": null,
   "metadata": {},
   "outputs": [],
   "source": []
  },
  {
   "cell_type": "markdown",
   "metadata": {},
   "source": [
    "**Use group by and aggregation on the \"titanic\" dataset to solve the following tasks:**"
   ]
  },
  {
   "cell_type": "markdown",
   "metadata": {},
   "source": [
    "**T1:** Extract the following data from the dataset:\n",
    "<!DOCTYPE html>\n",
    "<html>\n",
    "<body>\n",
    "\n",
    "<table style=\"font-family: Arial, sans-serif; border-collapse: collapse; width: 50%; font-size: 12px;\">\n",
    "  <tr>\n",
    "    <th style=\"border: none; text-align: right; padding: 8px; background-color: #f2f2f2; color: black;\"></th>\n",
    "    <th style=\"border: none; text-align: right; padding: 8px; background-color: #f2f2f2; color: black;\">who</th>\n",
    "    <th style=\"border: none; text-align: right; padding: 8px; background-color: #f2f2f2; color: black;\">number_of_passengers</th>\n",
    "    <th style=\"border: none; text-align: right; padding: 8px; background-color: #f2f2f2; color: black;\">number_of_survivors</th>\n",
    "    <th style=\"border: none; text-align: right; padding: 8px; background-color: #f2f2f2; color: black;\">ratio_survivors</th>\n",
    "  </tr>\n",
    "  <tr>\n",
    "    <td style=\"border: none; text-align: right; padding: 8px; color: black;\">0</td>\n",
    "    <td style=\"border: none; text-align: right; padding: 8px; color: black;\">woman</td>\n",
    "    <td style=\"border: none; text-align: right; padding: 8px; color: black;\">271</td>\n",
    "    <td style=\"border: none; text-align: right; padding: 8px; color: black;\">205</td>\n",
    "    <td style=\"border: none; text-align: right; padding: 8px; color: black;\">0.756458</td>\n",
    "  </tr>\n",
    "  <tr>\n",
    "    <td style=\"border: none; text-align: right; padding: 8px; color: black;\">1</td>\n",
    "    <td style=\"border: none; text-align: right; padding: 8px; color: black;\">man</td>\n",
    "    <td style=\"border: none; text-align: right; padding: 8px; color: black;\">537</td>\n",
    "    <td style=\"border: none; text-align: right; padding: 8px; color: black;\">88</td>\n",
    "    <td style=\"border: none; text-align: right; padding: 8px; color: black;\">0.163873</td>\n",
    "  </tr>\n",
    "  <tr>\n",
    "    <td style=\"border: none; text-align: right; padding: 8px; color: black;\">2</td>\n",
    "    <td style=\"border: none; text-align: right; padding: 8px; color: black;\">child</td>\n",
    "    <td style=\"border: none; text-align: right; padding: 8px; color: black;\">83</td>\n",
    "    <td style=\"border: none; text-align: right; padding: 8px; color: black;\">49</td>\n",
    "    <td style=\"border: none; text-align: right; padding: 8px; color: black;\">0.590361</td>\n",
    "  </tr>\n",
    "</table>\n",
    "\n",
    "</body>\n",
    "</html>\n",
    "<br>\n",
    "<details>\n",
    "<summary>Solution</summary>\n",
    "<pre><code>\n",
    "titanic.groupby(\"who\").aggregate(\n",
    "    number_of_passengers=pd.NamedAgg(column=\"survived\", aggfunc=\"count\"),\n",
    "    number_of_survivors=pd.NamedAgg(column=\"survived\", aggfunc=\"sum\"),\n",
    "    ratio_survivors=pd.NamedAgg(column=\"survived\", aggfunc=\"mean\"),\n",
    ").sort_index(ascending=False).reset_index()\n",
    "</code></pre>\n",
    "</details>"
   ]
  },
  {
   "cell_type": "code",
   "execution_count": null,
   "metadata": {},
   "outputs": [],
   "source": []
  },
  {
   "cell_type": "markdown",
   "metadata": {},
   "source": [
    "**T2:** Create a custom function *percent()* that can be used to aggregate survivor and get a percentage string:\n",
    "\n",
    "<!DOCTYPE html>\n",
    "<html>\n",
    "<body>\n",
    "\n",
    "<table style=\"font-family: Arial, sans-serif; border-collapse: collapse; width: 50%; font-size: 12px;\">\n",
    "  <tr>\n",
    "    <th style=\"border: none; text-align: right; padding: 8px; background-color: #f2f2f2; color: black;\"></th>\n",
    "    <th style=\"border: none; text-align: right; padding: 8px; background-color: #f2f2f2; color: black;\">who</th>\n",
    "    <th style=\"border: none; text-align: right; padding: 8px; background-color: #f2f2f2; color: black;\">number_of_passengers</th>\n",
    "    <th style=\"border: none; text-align: right; padding: 8px; background-color: #f2f2f2; color: black;\">number_of_survivors</th>\n",
    "    <th style=\"border: none; text-align: right; padding: 8px; background-color: #f2f2f2; color: black;\">percentage_survivors</th>\n",
    "  </tr>\n",
    "  <tr>\n",
    "    <td style=\"border: none; text-align: right; padding: 8px; color: black;\">0</td>\n",
    "    <td style=\"border: none; text-align: right; padding: 8px; color: black;\">woman</td>\n",
    "    <td style=\"border: none; text-align: right; padding: 8px; color: black;\">271</td>\n",
    "    <td style=\"border: none; text-align: right; padding: 8px; color: black;\">205</td>\n",
    "    <td style=\"border: none; text-align: right; padding: 8px; color: black;\">75.6 %</td>\n",
    "  </tr>\n",
    "  <tr>\n",
    "    <td style=\"border: none; text-align: right; padding: 8px; color: black;\">1</td>\n",
    "    <td style=\"border: none; text-align: right; padding: 8px; color: black;\">man</td>\n",
    "    <td style=\"border: none; text-align: right; padding: 8px; color: black;\">537</td>\n",
    "    <td style=\"border: none; text-align: right; padding: 8px; color: black;\">88</td>\n",
    "    <td style=\"border: none; text-align: right; padding: 8px; color: black;\">16.4 %</td>\n",
    "  </tr>\n",
    "  <tr>\n",
    "    <td style=\"border: none; text-align: right; padding: 8px; color: black;\">2</td>\n",
    "    <td style=\"border: none; text-align: right; padding: 8px; color: black;\">child</td>\n",
    "    <td style=\"border: none; text-align: right; padding: 8px; color: black;\">83</td>\n",
    "    <td style=\"border: none; text-align: right; padding: 8px; color: black;\">49</td>\n",
    "    <td style=\"border: none; text-align: right; padding: 8px; color: black;\">59.0 %</td>\n",
    "  </tr>\n",
    "</table>\n",
    "</body>\n",
    "</html>\n",
    "\n",
    "<br>\n",
    "<details>\n",
    "<summary>Solution</summary>\n",
    "<pre><code>\n",
    "import numpy as np\n",
    "def percent(col):\n",
    "    return f\"{np.mean(col) * 100:.1f} %\"\n",
    "</code></pre>\n",
    "</details>\n"
   ]
  },
  {
   "cell_type": "code",
   "execution_count": null,
   "metadata": {},
   "outputs": [],
   "source": []
  }
 ],
 "metadata": {
  "kernelspec": {
   "display_name": "Learning_Python-3NYKqp0N",
   "language": "python",
   "name": "python3"
  },
  "language_info": {
   "codemirror_mode": {
    "name": "ipython",
    "version": 3
   },
   "file_extension": ".py",
   "mimetype": "text/x-python",
   "name": "python",
   "nbconvert_exporter": "python",
   "pygments_lexer": "ipython3",
   "version": "3.11.5"
  }
 },
 "nbformat": 4,
 "nbformat_minor": 2
}
